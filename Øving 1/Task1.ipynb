{
 "cells": [
  {
   "cell_type": "code",
   "execution_count": 2,
   "metadata": {},
   "outputs": [],
   "source": [
    "import numpy as np\n",
    "import matplotlib.pyplot as plt\n",
    "import math"
   ]
  },
  {
   "cell_type": "code",
   "execution_count": 3,
   "metadata": {},
   "outputs": [
    {
     "name": "stdout",
     "output_type": "stream",
     "text": [
      "4 a)\n",
      "\n",
      "g = 9.81m/s^2\n",
      "starting height: y = 9m\n",
      "ledge length: x = 1.75m\n",
      "time before the swimmer hits the water: t = 1.35s\n",
      "\n",
      "The swimmer needs to have a minimum speed of:\n",
      "1.29 m/s\n",
      "to hit the water and not the ground\n"
     ]
    }
   ],
   "source": [
    "print(\"4 a)\")\n",
    "\n",
    "g = 9.81\n",
    "y = 9\n",
    "x = 1.75\n",
    "#time used\n",
    "t = math.sqrt((2*y)/g)\n",
    "v0 = x/t\n",
    "print()\n",
    "print(f\"g = {g}m/s^2\\nstarting height: y = {y}m\\nledge length: x = {x}m\\ntime before the swimmer hits the water: t = {round(t,2)}s\")\n",
    "print(f\"\\nThe swimmer needs to have a minimum speed of:\\n{round(v0,2)} m/s\\nto hit the water and not the ground\")"
   ]
  },
  {
   "cell_type": "code",
   "execution_count": 4,
   "metadata": {},
   "outputs": [
    {
     "name": "stdout",
     "output_type": "stream",
     "text": [
      "4 b)\n",
      "\n",
      "g = 9.81m/s^2\n",
      "starting height: y = 0.8m\n",
      "starting speed: v_0-x = 100s\n",
      "\n",
      "The time the canonball uses before hitting the ground\n",
      "0.4 s\n"
     ]
    }
   ],
   "source": [
    "print(\"4 b)\")\n",
    "print()\n",
    "\n",
    "g = 9.81\n",
    "y = 0.8\n",
    "v0x = 100\n",
    "\n",
    "t = math.sqrt((2*y)/g)\n",
    "\n",
    "print(f\"g = {g}m/s^2\\nstarting height: y = {y}m\\nstarting speed: v_0-x = {v0x}s\")\n",
    "print(f\"\\nThe time the canonball uses before hitting the ground\\n{round(t,2)} s\")\n"
   ]
  },
  {
   "cell_type": "code",
   "execution_count": 5,
   "metadata": {},
   "outputs": [
    {
     "name": "stdout",
     "output_type": "stream",
     "text": [
      "4 c)\n",
      "\n",
      "Find the longest y-direction\n",
      "y = v0*sin(α)*t + 1/2*a*t^2\n",
      "Formula dictates that the one with the lowest launch angle will hit first when you reverse the formula to find t\n",
      "This is because the one with the highest launch angle has the most starting speed in y-direction\n",
      "Higher starting speed in y-direction -> longer time before the canonball hits the ground at y = 0\n",
      "Target B is hit first\n"
     ]
    }
   ],
   "source": [
    "print(\"4 c)\")\n",
    "print()\n",
    "\n",
    "print(\"Find the longest y-direction\")\n",
    "print(\"y = v0*sin(α)*t + 1/2*a*t^2\")\n",
    "print(\"Formula dictates that the one with the lowest launch angle will hit first when you reverse the formula to find t\")\n",
    "print(\"This is because the one with the highest launch angle has the most starting speed in y-direction\")\n",
    "print(\"Higher starting speed in y-direction -> longer time before the canonball hits the ground at y = 0\")\n",
    "\n",
    "print(\"Target B is hit first\")\n"
   ]
  },
  {
   "cell_type": "code",
   "execution_count": 6,
   "metadata": {},
   "outputs": [
    {
     "name": "stdout",
     "output_type": "stream",
     "text": [
      "4 d)\n",
      "Equation 1: x = v0*cos(α)*t\n",
      "Equation 2: y = v0*sin(α)*t - 1/2*g*t^2\n",
      "This results in:\n",
      "cos(α) = x / v0*t\n",
      "sin(α) = (y + 1/2*g*t^2)/vo*t\n",
      "tan_alfa is the function made by inserting equation 1 & 2\n",
      "into tan(α) = sin(α)/cos(α)\n"
     ]
    },
    {
     "data": {
      "image/png": "[encoded data removed]",
      "text/plain": [
       "<Figure size 640x480 with 1 Axes>"
      ]
     },
     "metadata": {},
     "output_type": "display_data"
    },
    {
     "name": "stdout",
     "output_type": "stream",
     "text": [
      "intercept between tan(α) & tan_alfa(α)\n",
      "The intercepts are in radians. So to convert to degrees, we need to multiply the result with 360∘/2*π\n",
      "1: α = 0.3 = 17∘\n",
      "2: α = 1.179 = 68∘\n"
     ]
    }
   ],
   "source": [
    "print(\"4 d)\")\n",
    "\n",
    "print(\"Equation 1: x = v0*cos(α)*t\")\n",
    "print(\"Equation 2: y = v0*sin(α)*t - 1/2*g*t^2\")\n",
    "print(\"This results in:\")\n",
    "print(\"cos(α) = x / v0*t\")\n",
    "print(\"sin(α) = (y + 1/2*g*t^2)/vo*t\")\n",
    "print(\"tan_alfa is the function made by inserting equation 1 & 2\\ninto tan(α) = sin(α)/cos(α)\")\n",
    "\n",
    "#Method from tan(α) preperaed with sin α / cos α\n",
    "def tan_alfa(x):\n",
    "    return -0.1 + (0.367)/np.cos(x)**2\n",
    "\n",
    "#X is from 0.2 - 1.3\n",
    "x = np.linspace(0.2,1.3,101)\n",
    "tan_a = tan_alfa(x)\n",
    "tan = np.tan(x)\n",
    "#plots the two functions\n",
    "plt.plot(x, tan_alfa(x))\n",
    "plt.plot(x, np.tan(x))\n",
    "\n",
    "#The intercept points\n",
    "idx = np.argwhere(np.diff(np.sign(tan - tan_a))).flatten()\n",
    "plt.plot(x[idx], tan_a[idx], 'ro')\n",
    "\n",
    "plt.grid()\n",
    "plt.show() \n",
    "\n",
    "print(\"intercept between tan(α) & tan_alfa(α)\")\n",
    "print(\"The intercepts are in radians. So to convert to degrees, we need to multiply the result with 360∘/2*π\")\n",
    "print(f\"1: α = {round(x[idx][0], 1)} = {round(round(x[idx][0], 1)*((360)/(2*np.pi)))}∘\\n2: α = {round(x[idx][1],3)} = {round(x[idx][1]*((360)/(2*np.pi)))}∘\")"
   ]
  },
  {
   "cell_type": "code",
   "execution_count": null,
   "metadata": {},
   "outputs": [],
   "source": []
  }
 ],
 "metadata": {
  "kernelspec": {
   "display_name": "base",
   "language": "python",
   "name": "python3"
  },
  "language_info": {
   "codemirror_mode": {
    "name": "ipython",
    "version": 3
   },
   "file_extension": ".py",
   "mimetype": "text/x-python",
   "name": "python",
   "nbconvert_exporter": "python",
   "pygments_lexer": "ipython3",
   "version": "3.9.13"
  },
  "vscode": {
   "interpreter": {
    "hash": "ad2bdc8ecc057115af97d19610ffacc2b4e99fae6737bb82f5d7fb13d2f2c186"
   }
  }
 },
 "nbformat": 4,
 "nbformat_minor": 2
}
