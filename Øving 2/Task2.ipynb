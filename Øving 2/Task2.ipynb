{
 "cells": [
  {
   "cell_type": "code",
   "execution_count": 6,
   "metadata": {},
   "outputs": [],
   "source": [
    "import numpy as np\n",
    "import matplotlib.pyplot as plt"
   ]
  },
  {
   "cell_type": "code",
   "execution_count": 9,
   "metadata": {},
   "outputs": [],
   "source": [
    "#fysiske størrelse\n",
    "g = 9.81  #tyngdeakselerasjon\n",
    "m = 70   #massen til Alfred og Bjarne\n",
    "p = 1.23 #lufttettheten\n",
    "\n",
    "#startverdier\n",
    "t_0 = 0 #start tiden\n",
    "v_0 = 0 #start farten\n",
    "y_0 = 3500 #start høyden\n",
    "\n",
    "#euler spesifikke verdier\n",
    "n = 100000 #antall steg\n",
    "t_slutt = 50 #slutt tiden"
   ]
  },
  {
   "cell_type": "code",
   "execution_count": null,
   "metadata": {},
   "outputs": [],
   "source": [
    "def plotResult(t, y, v, a):\n",
    "    #plotter akselerasjonsgrafen\n",
    "    plt.subplot(3,1,1)\n",
    "    plt.plot(t,a,'b-')\n",
    "    plt.title('Akselerasjon')\n",
    "    plt.xlabel('tid/s')\n",
    "    plt.ylabel('akselerasjon/(m/s^2)')\n",
    "    plt.grid()\n",
    "\n",
    "    #plotter fartsgrafen\n",
    "    plt.subplot(3,1,2)\n",
    "    plt.plot(t,v,'r-')\n",
    "    plt.title('Fart')\n",
    "    plt.xlabel('tid/s')\n",
    "    plt.ylabel('fart/(m/s)')\n",
    "    plt.grid()\n",
    "\n",
    "    #plotter possisjonsgrafen\n",
    "    plt.subplot(3,1,3)\n",
    "    plt.plot(t,y,'g-')\n",
    "    plt.title('Posisjon')\n",
    "    plt.xlabel('tid/s')\n",
    "    plt.ylabel('posisjon/m')\n",
    "    plt.grid()"
   ]
  },
  {
   "cell_type": "code",
   "execution_count": 8,
   "metadata": {},
   "outputs": [],
   "source": [
    "def eulers(C, A, v_slutt, plot_result):\n",
    "    dt=t_slutt/(n)\n",
    "    #Vektorer/arrays\n",
    "    a = np.zeros(n)  #akselerasjon\n",
    "    v = np.zeros(n)  #fart\n",
    "    y = np.zeros(n)  #posisjon\n",
    "    t = np.zeros(n)  #tid\n",
    "\n",
    "    #Initialbetingelser\n",
    "    v[0] = v_0  #startfart\n",
    "    y[0] = y_0  #startposisjon\n",
    "    t[0] = t_0  #starttid\n",
    "    \n",
    "    v_98 = v_slutt * 0.98 #98% av terminalhastighet\n",
    "\n",
    "    #Eulers metode\n",
    "    for i in range(n-1):\n",
    "        a[i] = g-((C*p*A)/(2*m))*v[i]**2   #utledet fra Newtons 2. lov\n",
    "        v[i+1] = v[i] + a[i]*dt\n",
    "        y[i+1] = y[i] - v[i]*dt\n",
    "        t[i+1] = t[i] + dt\n",
    "\n",
    "        if(v[i]<v_98<v[i+1]):\n",
    "            print(f\"Tid før 98% terminalhastighet: {round(i*dt, 1)} s\")\n",
    "            print(f\"Meter falt ved 98% terminalhastighet: {round(y[0]-y[i+1], 1)} m\")\n",
    "    \n",
    "    if (plot_result):\n",
    "        plotResult(t, y, v, a)\n",
    "\n",
    "    "
   ]
  },
  {
   "cell_type": "code",
   "execution_count": 3,
   "metadata": {},
   "outputs": [],
   "source": []
  },
  {
   "cell_type": "code",
   "execution_count": 5,
   "metadata": {},
   "outputs": [
    {
     "name": "stdout",
     "output_type": "stream",
     "text": [
      "Alfred\n",
      "Tid før 98% terminalhastighet: 22.8 s\n",
      "Meter falt ved 98% terminalhastighet: 1552.3 m\n",
      "\n",
      "Bjarne\n",
      "Tid før 98% terminalhastighet: 7.8 s\n",
      "Meter falt ved 98% terminalhastighet: 182.5 m\n"
     ]
    }
   ],
   "source": [
    "print(\"Alfred\")\n",
    "C = 0.7 #Drag koeffisienten\n",
    "A = 0.17 #Arealet\n",
    "v_slutt = 96.9 #terminalhastigheten\n",
    "plott_result = False #om resultatet skal plottes eller ikke\n",
    "\n",
    "eulers(C, A, v_slutt, plott_result)\n",
    "\n",
    "print()\n",
    "\n",
    "print(\"Bjarne\")\n",
    "C = 1.0 #Drag koeffisienten\n",
    "A = 1.0 #Arealet\n",
    "v_slutt = 33.4 #terminalhastigheten\n",
    "plott_result = False #om resultatet skal plottes eller ikke\n",
    "\n",
    "eulers(C, A, v_slutt, plott_result)"
   ]
  },
  {
   "cell_type": "code",
   "execution_count": null,
   "metadata": {},
   "outputs": [],
   "source": []
  }
 ],
 "metadata": {
  "kernelspec": {
   "display_name": "base",
   "language": "python",
   "name": "python3"
  },
  "language_info": {
   "codemirror_mode": {
    "name": "ipython",
    "version": 3
   },
   "file_extension": ".py",
   "mimetype": "text/x-python",
   "name": "python",
   "nbconvert_exporter": "python",
   "pygments_lexer": "ipython3",
   "version": "3.9.13"
  },
  "orig_nbformat": 4,
  "vscode": {
   "interpreter": {
    "hash": "ad2bdc8ecc057115af97d19610ffacc2b4e99fae6737bb82f5d7fb13d2f2c186"
   }
  }
 },
 "nbformat": 4,
 "nbformat_minor": 2
}
