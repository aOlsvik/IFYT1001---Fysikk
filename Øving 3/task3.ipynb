{
 "cells": [
  {
   "cell_type": "code",
   "execution_count": 1,
   "id": "15949cf6",
   "metadata": {},
   "outputs": [],
   "source": [
    "import numpy as np\n",
    "import matplotlib.pyplot as plt\n",
    "import scipy.integrate as integrate"
   ]
  },
  {
   "cell_type": "code",
   "execution_count": 2,
   "id": "596743f6",
   "metadata": {},
   "outputs": [
    {
     "name": "stdout",
     "output_type": "stream",
     "text": [
      " a)\n",
      "Luftmotstandens arbeid ved 80km/t: 1164 kWh\n",
      "Luftmotstandens arbeid ved 100km/t: 1818 kWh\n"
     ]
    }
   ],
   "source": [
    "# Task 7a \n",
    "C=0.21\n",
    "rho=1.23 #kg/m^3\n",
    "A=2.33 # m^2\n",
    "# Største model S masse\n",
    "M=2250 # kg\n",
    "print(\" a)\")\n",
    "# Hvis bilen kjører med farten 80 km/h\n",
    "d=10000\n",
    "v_a = 80/3.6\n",
    "v_b = 100/3.6\n",
    "\n",
    "airresistance_a = 1/2 * rho * A * C * v_a**2\n",
    "airresistance_b = 1/2 * rho * A * C * v_b**2\n",
    "\n",
    "W_a = airresistance_a * d\n",
    "W_b = airresistance_b * d\n",
    "\n",
    "def jouleToKWH(x):\n",
    "    return x*2.77810**(-7)\n",
    "\n",
    "print(f\"Luftmotstandens arbeid ved 80km/t: {round(jouleToKWH(W_a))} kWh\")\n",
    "print(f\"Luftmotstandens arbeid ved 100km/t: {round(jouleToKWH(W_b))} kWh\")\n"
   ]
  },
  {
   "cell_type": "code",
   "execution_count": 3,
   "id": "ffbf2119",
   "metadata": {},
   "outputs": [
    {
     "name": "stdout",
     "output_type": "stream",
     "text": [
      " b) \n",
      "Fartsgraf de første 10 sekundene ved maksfart 80 km/t og 100 km/t\n"
     ]
    },
    {
     "data": {
      "image/png": "[encoded data removed]",
      "text/plain": [
       "<Figure size 640x480 with 1 Axes>"
      ]
     },
     "metadata": {},
     "output_type": "display_data"
    }
   ],
   "source": [
    "# Task 7b \n",
    "print(\" b) \")\n",
    "def v(t,vmax):\n",
    "    v=0.5*vmax*1000/3600 *(np.sin((np.pi/10)*t-np.pi/2)+1)\n",
    "    return v\n",
    "\n",
    "x = np.linspace(0, 10, 100)\n",
    "\n",
    "plt.plot(x, v(x,80), color='red', label = \"80 km/t\")\n",
    "plt.plot(x,v(x,100), color='blue', label = \"100 km/t\")\n",
    "plt.legend()\n",
    "\n",
    "plt.xlabel('t (s)')\n",
    "plt.ylabel('v (m/s)')\n",
    "print(\"Fartsgraf de første 10 sekundene ved maksfart 80 km/t og 100 km/t\")\n",
    "plt.show()"
   ]
  },
  {
   "cell_type": "code",
   "execution_count": 4,
   "id": "7462a567",
   "metadata": {},
   "outputs": [
    {
     "name": "stdout",
     "output_type": "stream",
     "text": [
      " c)\n",
      "Integral av fartsgraf, altså strekning, de første 10 sekundene:\n",
      " ved 80 km/t: 111 m\n",
      " ved 100 km/t: 139 m\n"
     ]
    }
   ],
   "source": [
    "# Task 7c\n",
    "print(\" c)\")\n",
    "\n",
    "distance_80, error = integrate.quad(v, 0, 10,args=80)\n",
    "distance_100, error = integrate.quad(v, 0, 10,args=100)\n",
    "\n",
    "print(\"Integral av fartsgraf, altså strekning, de første 10 sekundene:\")\n",
    "print(f\" ved 80 km/t: {round(distance_80)} m\")\n",
    "print(f\" ved 100 km/t: {round(distance_100)} m\")"
   ]
  },
  {
   "cell_type": "code",
   "execution_count": 5,
   "id": "c3cad023",
   "metadata": {},
   "outputs": [
    {
     "name": "stdout",
     "output_type": "stream",
     "text": [
      " d)\n",
      "Kinetisk energi ved maksfart:\n",
      " ved 80 km/t: 435 kWh\n",
      " ved 100 km/t: 680 kWh\n"
     ]
    }
   ],
   "source": [
    "# Task 7d\n",
    "print(\" d)\")\n",
    "\n",
    "def kin(v):\n",
    "    return 1/2 * M * (v/3.6)**2\n",
    "\n",
    "print(\"Kinetisk energi ved maksfart:\")\n",
    "print(f\" ved 80 km/t: {round(jouleToKWH(kin(80)))} kWh\")\n",
    "print(f\" ved 100 km/t: {round(jouleToKWH(kin(100)))} kWh\")"
   ]
  },
  {
   "cell_type": "code",
   "execution_count": 6,
   "id": "26d6dfaa",
   "metadata": {},
   "outputs": [
    {
     "name": "stdout",
     "output_type": "stream",
     "text": [
      " e)\n",
      "Arbeid gjort av friksjonen de første 10 sekundene:\n",
      " ved 80 km/t: 10320 J\n",
      " ved 100 km/t: 20155 J\n"
     ]
    }
   ],
   "source": [
    "# Task 7e\n",
    "print(\" e)\")\n",
    "\n",
    "def drag_effect(t,vmax):\n",
    "    return 0.5*A*rho*C*v(t,vmax)**3\n",
    "\n",
    "friction_result_80,err = integrate.quad(drag_effect, 0, 10, args=80)\n",
    "friction_result_100,err = integrate.quad(drag_effect, 0, 10, args=100)\n",
    "\n",
    "print(\"Arbeid gjort av friksjonen de første 10 sekundene:\")\n",
    "print(f\" ved 80 km/t: {round(friction_result_80)} J\")\n",
    "print(f\" ved 100 km/t: {round(friction_result_100)} J\")"
   ]
  },
  {
   "cell_type": "code",
   "execution_count": 10,
   "id": "e5802a83",
   "metadata": {},
   "outputs": [
    {
     "name": "stdout",
     "output_type": "stream",
     "text": [
      " f)\n",
      "Totalt arbeid utført av friksjon:\n",
      " ved 80 km/t: 1473639 J\n",
      " ved 100 km/t: 2310623 J\n"
     ]
    }
   ],
   "source": [
    "# Task 7f\n",
    "print(\" f)\")\n",
    "\n",
    "friksjon_80 = drag_effect(10,80)/(80/3.6)\n",
    "friksjon_100 = drag_effect(10,100)/(100/3.6)\n",
    "\n",
    "friksjon_total_80 = friksjon_80 * (d - 2*distance_80) + friction_result_80*2\n",
    "friksjon_total_100 = friksjon_100 * (d - 2*distance_80) + friction_result_100*2\n",
    "\n",
    "print(\"Totalt arbeid utført av friksjon:\")\n",
    "print(f\" ved 80 km/t: {round(friksjon_total_80)} J\")\n",
    "print(f\" ved 100 km/t: {round(friksjon_total_100)} J\")"
   ]
  },
  {
   "cell_type": "code",
   "execution_count": 12,
   "id": "59cf6b7a",
   "metadata": {},
   "outputs": [
    {
     "name": "stdout",
     "output_type": "stream",
     "text": [
      " g)\n",
      "Effekttap\n",
      " ved 80 km/t: 3204W\n",
      " ved 100 km/t: 6211W\n"
     ]
    }
   ],
   "source": [
    "# Task 7g\n",
    "print(\" g)\")\n",
    "\n",
    "total_time_80 = 10*2 + (d - 2*distance_80)/(v_a)\n",
    "total_time_100 = 10*2 + (d - 2*distance_80)/(v_b)\n",
    "\n",
    "efficiency_loss_80 = friksjon_total_80/total_time_80\n",
    "efficiency_loss_100 = friksjon_total_100/total_time_100\n",
    "\n",
    "print(\"Effekttap\")\n",
    "print(f\" ved 80 km/t: {round(efficiency_loss_80)}W\")\n",
    "print(f\" ved 100 km/t: {round(efficiency_loss_100)}W\")"
   ]
  },
  {
   "cell_type": "code",
   "execution_count": null,
   "id": "ee03eb90",
   "metadata": {},
   "outputs": [],
   "source": []
  }
 ],
 "metadata": {
  "kernelspec": {
   "display_name": "base",
   "language": "python",
   "name": "python3"
  },
  "language_info": {
   "codemirror_mode": {
    "name": "ipython",
    "version": 3
   },
   "file_extension": ".py",
   "mimetype": "text/x-python",
   "name": "python",
   "nbconvert_exporter": "python",
   "pygments_lexer": "ipython3",
   "version": "3.9.13"
  },
  "vscode": {
   "interpreter": {
    "hash": "ad2bdc8ecc057115af97d19610ffacc2b4e99fae6737bb82f5d7fb13d2f2c186"
   }
  }
 },
 "nbformat": 4,
 "nbformat_minor": 5
}
